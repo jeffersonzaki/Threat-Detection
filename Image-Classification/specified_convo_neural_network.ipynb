{
 "cells": [
  {
   "cell_type": "code",
   "execution_count": 1,
   "metadata": {},
   "outputs": [
    {
     "name": "stderr",
     "output_type": "stream",
     "text": [
      "Using TensorFlow backend.\n"
     ]
    }
   ],
   "source": [
    "import pandas as pd\n",
    "import numpy as np\n",
    "\n",
    "import seaborn as sns\n",
    "import matplotlib.pyplot as plt\n",
    "\n",
    "# Neural Networks\n",
    "import tensorflow\n",
    "import keras\n",
    "from keras.applications import MobileNet\n",
    "\n",
    "# AWS\n",
    "import boto3\n",
    "\n",
    "# Model\n",
    "from sklearn.model_selection import train_test_split"
   ]
  },
  {
   "cell_type": "markdown",
   "metadata": {},
   "source": [
    "## Downloading Data from a Bucket"
   ]
  },
  {
   "cell_type": "code",
   "execution_count": 2,
   "metadata": {},
   "outputs": [
    {
     "name": "stdout",
     "output_type": "stream",
     "text": [
      "credentials\n"
     ]
    }
   ],
   "source": [
    "!ls ~/.aws"
   ]
  },
  {
   "cell_type": "code",
   "execution_count": 3,
   "metadata": {},
   "outputs": [],
   "source": [
    "s3 = boto3.resource(\"s3\")"
   ]
  },
  {
   "cell_type": "code",
   "execution_count": 22,
   "metadata": {},
   "outputs": [
    {
     "name": "stdout",
     "output_type": "stream",
     "text": [
      "s3.Bucket(name='firearm-image-classification')\n",
      "s3.Bucket(name='jefferson-demo-0106')\n"
     ]
    }
   ],
   "source": [
    "# Looking at all buckets\n",
    "for bucket in s3.buckets.all():\n",
    "    print(bucket)\n",
    "\n",
    "bucket = s3.Bucket(\"firearm-image-classification\")"
   ]
  },
  {
   "cell_type": "code",
   "execution_count": 2,
   "metadata": {},
   "outputs": [],
   "source": [
    "# prints the contents of bucket\n",
    "for s3_file in bucket.objects.all():\n",
    "    print(s3_file.key)"
   ]
  },
  {
   "cell_type": "code",
   "execution_count": 3,
   "metadata": {},
   "outputs": [],
   "source": [
    "# Downloading all Objects in the bucket to current directory\n",
    "!aws s3 sync s3://firearm-image-classification ."
   ]
  },
  {
   "cell_type": "code",
   "execution_count": 2,
   "metadata": {},
   "outputs": [],
   "source": [
    "# Alters pictures\n",
    "image_gen = keras.preprocessing.image.ImageDataGenerator(\n",
    "    featurewise_center=False,\n",
    "    samplewise_center=False,\n",
    "    featurewise_std_normalization=False,\n",
    "    samplewise_std_normalization=False,\n",
    "    zca_whitening=False,\n",
    "    zca_epsilon=1e-06,\n",
    "    rotation_range=0.0,\n",
    "    width_shift_range=0.0,\n",
    "    height_shift_range=0.0,\n",
    "    shear_range=0.0,\n",
    "    zoom_range=0.0,\n",
    "    channel_shift_range=0.0,\n",
    "    fill_mode='nearest',\n",
    "    cval=0.0,\n",
    "    horizontal_flip=False,\n",
    "    vertical_flip=False,\n",
    "    rescale=1./255,\n",
    "    preprocessing_function=None,\n",
    "    data_format=None)"
   ]
  },
  {
   "cell_type": "code",
   "execution_count": 3,
   "metadata": {},
   "outputs": [
    {
     "name": "stdout",
     "output_type": "stream",
     "text": [
      "Found 1596 images belonging to 6 classes.\n"
     ]
    }
   ],
   "source": [
    "# Loading Images\n",
    "image_gen = image_gen.flow_from_directory(\n",
    "    \"SpecifiedData\",\n",
    "    target_size=(300, 300),\n",
    "    color_mode='rgb',\n",
    "    classes=None,\n",
    "    class_mode='categorical',\n",
    "    batch_size=1596,\n",
    "    shuffle=True,\n",
    "    seed=123,\n",
    "    save_to_dir=None,\n",
    "    save_prefix='',\n",
    "    save_format='png',\n",
    "    follow_links=False,\n",
    "    interpolation='nearest')"
   ]
  },
  {
   "cell_type": "code",
   "execution_count": 4,
   "metadata": {},
   "outputs": [
    {
     "data": {
      "text/plain": [
       "{'Assault_Rifles': 0,\n",
       " 'Camera_Feed': 1,\n",
       " 'Handguns': 2,\n",
       " 'Holstered_Guns': 3,\n",
       " 'People_Holding_Handguns': 4,\n",
       " 'People_Holding_Rifles': 5}"
      ]
     },
     "execution_count": 4,
     "metadata": {},
     "output_type": "execute_result"
    }
   ],
   "source": [
    "# Data Classes\n",
    "image_gen.class_indices  # From directory (the way it was labeled)"
   ]
  },
  {
   "cell_type": "code",
   "execution_count": 5,
   "metadata": {},
   "outputs": [
    {
     "data": {
      "text/plain": [
       "(300, 300, 3)"
      ]
     },
     "execution_count": 5,
     "metadata": {},
     "output_type": "execute_result"
    }
   ],
   "source": [
    "image_gen.image_shape"
   ]
  },
  {
   "cell_type": "markdown",
   "metadata": {},
   "source": [
    "## Images and Lables"
   ]
  },
  {
   "cell_type": "code",
   "execution_count": 6,
   "metadata": {},
   "outputs": [
    {
     "data": {
      "text/plain": [
       "((1596, 300, 300, 3), (1596, 6))"
      ]
     },
     "execution_count": 6,
     "metadata": {},
     "output_type": "execute_result"
    }
   ],
   "source": [
    "# split images and labels\n",
    "images, labels = next(image_gen)\n",
    "images.shape, labels.shape"
   ]
  },
  {
   "cell_type": "markdown",
   "metadata": {},
   "source": [
    "## Showing Images"
   ]
  },
  {
   "cell_type": "code",
   "execution_count": 7,
   "metadata": {},
   "outputs": [
    {
     "name": "stdout",
     "output_type": "stream",
     "text": [
      "Classes:{'Assault_Rifles': 0, 'Camera_Feed': 1, 'Handguns': 2, 'Holstered_Guns': 3, 'People_Holding_Handguns': 4, 'People_Holding_Rifles': 5}\n",
      "[0. 0. 0. 0. 1. 0.]\n"
     ]
    },
    {
     "data": {
      "image/png": "[encoded data removed]",
      "text/plain": [
       "<Figure size 432x288 with 1 Axes>"
      ]
     },
     "metadata": {
      "needs_background": "light"
     },
     "output_type": "display_data"
    }
   ],
   "source": [
    "def show_image(n):\n",
    "    \n",
    "    print(f\"Classes:{image_gen.class_indices}\")\n",
    "    plt.imshow(images[n])\n",
    "    print(labels[n])\n",
    "    \n",
    "show_image(80)"
   ]
  },
  {
   "cell_type": "markdown",
   "metadata": {},
   "source": [
    "## Train and Test Split"
   ]
  },
  {
   "cell_type": "code",
   "execution_count": 8,
   "metadata": {},
   "outputs": [
    {
     "data": {
      "text/plain": [
       "((1276, 300, 300, 3), (320, 300, 300, 3), (1276, 6), (320, 6))"
      ]
     },
     "execution_count": 8,
     "metadata": {},
     "output_type": "execute_result"
    }
   ],
   "source": [
    "X_model, X_test, y_model, y_test = train_test_split(images, labels, test_size=0.2, random_state=41)\n",
    "X_model.shape, X_test.shape, y_model.shape, y_test.shape"
   ]
  },
  {
   "cell_type": "markdown",
   "metadata": {},
   "source": [
    "## Validation Set"
   ]
  },
  {
   "cell_type": "code",
   "execution_count": 9,
   "metadata": {},
   "outputs": [
    {
     "data": {
      "text/plain": [
       "((1020, 300, 300, 3), (256, 300, 300, 3), (1020, 6), (256, 6))"
      ]
     },
     "execution_count": 9,
     "metadata": {},
     "output_type": "execute_result"
    }
   ],
   "source": [
    "X_train, X_val, y_train, y_val = train_test_split(X_model, y_model, test_size=0.2, random_state=41)\n",
    "X_train.shape, X_val.shape, y_train.shape, y_val.shape"
   ]
  },
  {
   "cell_type": "code",
   "execution_count": 10,
   "metadata": {},
   "outputs": [],
   "source": [
    "# Convenlutional Neural Network Model\n",
    "cnn = keras.models.Sequential()\n",
    "\n",
    "cnn.add(keras.layers.Conv2D(64, (3, 3),\n",
    "                      activation='relu',\n",
    "                      input_shape=(300, 300,  3),\n",
    "                      padding='SAME'))\n",
    "cnn.add(keras.layers.MaxPooling2D((2, 2)))\n",
    "\n",
    "cnn.add(keras.layers.Flatten())\n",
    "cnn.add(keras.layers.Dense(64, activation='relu'))\n",
    "cnn.add(keras.layers.Dense(2, activation='softmax'))\n",
    "\n",
    "# Producing Neural Network\n",
    "cnn.compile(loss='binary_crossentropy',  # Loss function\n",
    "            optimizer=\"sgd\",  # Gradient Descent\n",
    "            metrics=['acc'])  # Accuracy score"
   ]
  },
  {
   "cell_type": "code",
   "execution_count": 12,
   "metadata": {},
   "outputs": [],
   "source": [
    "reduce_lr = keras.callbacks.ReduceLROnPlateau(\n",
    "    monitor='loss', factor=0.1, patience=20,\n",
    "    verbose=0, mode='auto', min_lr=0)"
   ]
  },
  {
   "cell_type": "code",
   "execution_count": 13,
   "metadata": {},
   "outputs": [],
   "source": [
    "# If there are problems with input data then it will stop it\n",
    "nan_problem = keras.callbacks.TerminateOnNaN()"
   ]
  },
  {
   "cell_type": "code",
   "execution_count": 14,
   "metadata": {},
   "outputs": [],
   "source": [
    "# Stops Epochs when modeling stops to improve\n",
    "early_stop = keras.callbacks.EarlyStopping(\n",
    "    monitor='loss', min_delta=0, patience=20,\n",
    "    verbose=0, mode='auto')"
   ]
  },
  {
   "cell_type": "code",
   "execution_count": 15,
   "metadata": {},
   "outputs": [
    {
     "name": "stdout",
     "output_type": "stream",
     "text": [
      "_________________________________________________________________\n",
      "Layer (type)                 Output Shape              Param #   \n",
      "=================================================================\n",
      "conv2d_1 (Conv2D)            (None, 300, 300, 64)      1792      \n",
      "_________________________________________________________________\n",
      "max_pooling2d_1 (MaxPooling2 (None, 150, 150, 64)      0         \n",
      "_________________________________________________________________\n",
      "conv2d_2 (Conv2D)            (None, 150, 150, 32)      18464     \n",
      "_________________________________________________________________\n",
      "max_pooling2d_2 (MaxPooling2 (None, 75, 75, 32)        0         \n",
      "_________________________________________________________________\n",
      "conv2d_3 (Conv2D)            (None, 75, 75, 32)        9248      \n",
      "_________________________________________________________________\n",
      "flatten_1 (Flatten)          (None, 180000)            0         \n",
      "_________________________________________________________________\n",
      "dense_1 (Dense)              (None, 32)                5760032   \n",
      "_________________________________________________________________\n",
      "dense_2 (Dense)              (None, 6)                 198       \n",
      "=================================================================\n",
      "Total params: 5,789,734\n",
      "Trainable params: 5,789,734\n",
      "Non-trainable params: 0\n",
      "_________________________________________________________________\n",
      "None\n"
     ]
    }
   ],
   "source": [
    "print(cnn.summary())"
   ]
  },
  {
   "cell_type": "code",
   "execution_count": 28,
   "metadata": {
    "colab": {
     "base_uri": "https://localhost:8080/",
     "height": 1000
    },
    "colab_type": "code",
    "id": "oFim3wbY73wv",
    "outputId": "5e4fa080-82f4-466d-af80-65965257f10d",
    "scrolled": true
   },
   "outputs": [
    {
     "name": "stdout",
     "output_type": "stream",
     "text": [
      "Train on 1020 samples, validate on 256 samples\n",
      "Epoch 1/1\n",
      "1020/1020 [==============================] - 183s 179ms/step - loss: 0.4046 - acc: 0.8407 - val_loss: 0.3658 - val_acc: 0.8548\n"
     ]
    }
   ],
   "source": [
    "cnn1 = cnn.fit(X_train,\n",
    "               y_train,\n",
    "               validation_data=(X_val, y_val),\n",
    "               epochs=400,\n",
    "               batch_size=100,\n",
    "               callbacks=[early_stop, nan_problem, reduce_lr])"
   ]
  },
  {
   "cell_type": "code",
   "execution_count": 29,
   "metadata": {},
   "outputs": [
    {
     "name": "stdout",
     "output_type": "stream",
     "text": [
      "1020/1020 [==============================] - 39s 38ms/step\n",
      "320/320 [==============================] - 12s 37ms/step\n",
      "[0.3659849934718188, 0.8552287291078007] [0.3586286872625351, 0.8609374642372132]\n"
     ]
    }
   ],
   "source": [
    "results_train = cnn.evaluate(X_train, y_train)\n",
    "results_test = cnn.evaluate(X_test, y_test)\n",
    "print(results_train, results_test)"
   ]
  }
 ],
 "metadata": {
  "kernelspec": {
   "display_name": "learn-env",
   "language": "python",
   "name": "learn-env"
  },
  "language_info": {
   "codemirror_mode": {
    "name": "ipython",
    "version": 3
   },
   "file_extension": ".py",
   "mimetype": "text/x-python",
   "name": "python",
   "nbconvert_exporter": "python",
   "pygments_lexer": "ipython3",
   "version": "3.6.9"
  }
 },
 "nbformat": 4,
 "nbformat_minor": 4
}
